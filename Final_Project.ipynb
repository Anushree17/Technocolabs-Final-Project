{
  "nbformat": 4,
  "nbformat_minor": 0,
  "metadata": {
    "colab": {
      "name": "Final Project.ipynb",
      "provenance": []
    },
    "kernelspec": {
      "name": "python3",
      "display_name": "Python 3"
    }
  },
  "cells": [
    {
      "cell_type": "code",
      "metadata": {
        "id": "vSVnKSo2XD0u"
      },
      "source": [
        "import pandas as pd\n",
        "import numpy as np\n",
        "import matplotlib.pyplot as plt\n",
        "import tensorflow as tf"
      ],
      "execution_count": null,
      "outputs": []
    },
    {
      "cell_type": "code",
      "metadata": {
        "id": "8snd1xJzXfiF",
        "outputId": "eaab2934-9eea-4fe6-baa9-4581e52e7b34",
        "colab": {
          "resources": {
            "http://localhost:8080/nbextensions/google.colab/files.js": {
              "data": "Ly8gQ29weXJpZ2h0IDIwMTcgR29vZ2xlIExMQwovLwovLyBMaWNlbnNlZCB1bmRlciB0aGUgQXBhY2hlIExpY2Vuc2UsIFZlcnNpb24gMi4wICh0aGUgIkxpY2Vuc2UiKTsKLy8geW91IG1heSBub3QgdXNlIHRoaXMgZmlsZSBleGNlcHQgaW4gY29tcGxpYW5jZSB3aXRoIHRoZSBMaWNlbnNlLgovLyBZb3UgbWF5IG9idGFpbiBhIGNvcHkgb2YgdGhlIExpY2Vuc2UgYXQKLy8KLy8gICAgICBodHRwOi8vd3d3LmFwYWNoZS5vcmcvbGljZW5zZXMvTElDRU5TRS0yLjAKLy8KLy8gVW5sZXNzIHJlcXVpcmVkIGJ5IGFwcGxpY2FibGUgbGF3IG9yIGFncmVlZCB0byBpbiB3cml0aW5nLCBzb2Z0d2FyZQovLyBkaXN0cmlidXRlZCB1bmRlciB0aGUgTGljZW5zZSBpcyBkaXN0cmlidXRlZCBvbiBhbiAiQVMgSVMiIEJBU0lTLAovLyBXSVRIT1VUIFdBUlJBTlRJRVMgT1IgQ09ORElUSU9OUyBPRiBBTlkgS0lORCwgZWl0aGVyIGV4cHJlc3Mgb3IgaW1wbGllZC4KLy8gU2VlIHRoZSBMaWNlbnNlIGZvciB0aGUgc3BlY2lmaWMgbGFuZ3VhZ2UgZ292ZXJuaW5nIHBlcm1pc3Npb25zIGFuZAovLyBsaW1pdGF0aW9ucyB1bmRlciB0aGUgTGljZW5zZS4KCi8qKgogKiBAZmlsZW92ZXJ2aWV3IEhlbHBlcnMgZm9yIGdvb2dsZS5jb2xhYiBQeXRob24gbW9kdWxlLgogKi8KKGZ1bmN0aW9uKHNjb3BlKSB7CmZ1bmN0aW9uIHNwYW4odGV4dCwgc3R5bGVBdHRyaWJ1dGVzID0ge30pIHsKICBjb25zdCBlbGVtZW50ID0gZG9jdW1lbnQuY3JlYXRlRWxlbWVudCgnc3BhbicpOwogIGVsZW1lbnQudGV4dENvbnRlbnQgPSB0ZXh0OwogIGZvciAoY29uc3Qga2V5IG9mIE9iamVjdC5rZXlzKHN0eWxlQXR0cmlidXRlcykpIHsKICAgIGVsZW1lbnQuc3R5bGVba2V5XSA9IHN0eWxlQXR0cmlidXRlc1trZXldOwogIH0KICByZXR1cm4gZWxlbWVudDsKfQoKLy8gTWF4IG51bWJlciBvZiBieXRlcyB3aGljaCB3aWxsIGJlIHVwbG9hZGVkIGF0IGEgdGltZS4KY29uc3QgTUFYX1BBWUxPQURfU0laRSA9IDEwMCAqIDEwMjQ7CgpmdW5jdGlvbiBfdXBsb2FkRmlsZXMoaW5wdXRJZCwgb3V0cHV0SWQpIHsKICBjb25zdCBzdGVwcyA9IHVwbG9hZEZpbGVzU3RlcChpbnB1dElkLCBvdXRwdXRJZCk7CiAgY29uc3Qgb3V0cHV0RWxlbWVudCA9IGRvY3VtZW50LmdldEVsZW1lbnRCeUlkKG91dHB1dElkKTsKICAvLyBDYWNoZSBzdGVwcyBvbiB0aGUgb3V0cHV0RWxlbWVudCB0byBtYWtlIGl0IGF2YWlsYWJsZSBmb3IgdGhlIG5leHQgY2FsbAogIC8vIHRvIHVwbG9hZEZpbGVzQ29udGludWUgZnJvbSBQeXRob24uCiAgb3V0cHV0RWxlbWVudC5zdGVwcyA9IHN0ZXBzOwoKICByZXR1cm4gX3VwbG9hZEZpbGVzQ29udGludWUob3V0cHV0SWQpOwp9CgovLyBUaGlzIGlzIHJvdWdobHkgYW4gYXN5bmMgZ2VuZXJhdG9yIChub3Qgc3VwcG9ydGVkIGluIHRoZSBicm93c2VyIHlldCksCi8vIHdoZXJlIHRoZXJlIGFyZSBtdWx0aXBsZSBhc3luY2hyb25vdXMgc3RlcHMgYW5kIHRoZSBQeXRob24gc2lkZSBpcyBnb2luZwovLyB0byBwb2xsIGZvciBjb21wbGV0aW9uIG9mIGVhY2ggc3RlcC4KLy8gVGhpcyB1c2VzIGEgUHJvbWlzZSB0byBibG9jayB0aGUgcHl0aG9uIHNpZGUgb24gY29tcGxldGlvbiBvZiBlYWNoIHN0ZXAsCi8vIHRoZW4gcGFzc2VzIHRoZSByZXN1bHQgb2YgdGhlIHByZXZpb3VzIHN0ZXAgYXMgdGhlIGlucHV0IHRvIHRoZSBuZXh0IHN0ZXAuCmZ1bmN0aW9uIF91cGxvYWRGaWxlc0NvbnRpbnVlKG91dHB1dElkKSB7CiAgY29uc3Qgb3V0cHV0RWxlbWVudCA9IGRvY3VtZW50LmdldEVsZW1lbnRCeUlkKG91dHB1dElkKTsKICBjb25zdCBzdGVwcyA9IG91dHB1dEVsZW1lbnQuc3RlcHM7CgogIGNvbnN0IG5leHQgPSBzdGVwcy5uZXh0KG91dHB1dEVsZW1lbnQubGFzdFByb21pc2VWYWx1ZSk7CiAgcmV0dXJuIFByb21pc2UucmVzb2x2ZShuZXh0LnZhbHVlLnByb21pc2UpLnRoZW4oKHZhbHVlKSA9PiB7CiAgICAvLyBDYWNoZSB0aGUgbGFzdCBwcm9taXNlIHZhbHVlIHRvIG1ha2UgaXQgYXZhaWxhYmxlIHRvIHRoZSBuZXh0CiAgICAvLyBzdGVwIG9mIHRoZSBnZW5lcmF0b3IuCiAgICBvdXRwdXRFbGVtZW50Lmxhc3RQcm9taXNlVmFsdWUgPSB2YWx1ZTsKICAgIHJldHVybiBuZXh0LnZhbHVlLnJlc3BvbnNlOwogIH0pOwp9CgovKioKICogR2VuZXJhdG9yIGZ1bmN0aW9uIHdoaWNoIGlzIGNhbGxlZCBiZXR3ZWVuIGVhY2ggYXN5bmMgc3RlcCBvZiB0aGUgdXBsb2FkCiAqIHByb2Nlc3MuCiAqIEBwYXJhbSB7c3RyaW5nfSBpbnB1dElkIEVsZW1lbnQgSUQgb2YgdGhlIGlucHV0IGZpbGUgcGlja2VyIGVsZW1lbnQuCiAqIEBwYXJhbSB7c3RyaW5nfSBvdXRwdXRJZCBFbGVtZW50IElEIG9mIHRoZSBvdXRwdXQgZGlzcGxheS4KICogQHJldHVybiB7IUl0ZXJhYmxlPCFPYmplY3Q+fSBJdGVyYWJsZSBvZiBuZXh0IHN0ZXBzLgogKi8KZnVuY3Rpb24qIHVwbG9hZEZpbGVzU3RlcChpbnB1dElkLCBvdXRwdXRJZCkgewogIGNvbnN0IGlucHV0RWxlbWVudCA9IGRvY3VtZW50LmdldEVsZW1lbnRCeUlkKGlucHV0SWQpOwogIGlucHV0RWxlbWVudC5kaXNhYmxlZCA9IGZhbHNlOwoKICBjb25zdCBvdXRwdXRFbGVtZW50ID0gZG9jdW1lbnQuZ2V0RWxlbWVudEJ5SWQob3V0cHV0SWQpOwogIG91dHB1dEVsZW1lbnQuaW5uZXJIVE1MID0gJyc7CgogIGNvbnN0IHBpY2tlZFByb21pc2UgPSBuZXcgUHJvbWlzZSgocmVzb2x2ZSkgPT4gewogICAgaW5wdXRFbGVtZW50LmFkZEV2ZW50TGlzdGVuZXIoJ2NoYW5nZScsIChlKSA9PiB7CiAgICAgIHJlc29sdmUoZS50YXJnZXQuZmlsZXMpOwogICAgfSk7CiAgfSk7CgogIGNvbnN0IGNhbmNlbCA9IGRvY3VtZW50LmNyZWF0ZUVsZW1lbnQoJ2J1dHRvbicpOwogIGlucHV0RWxlbWVudC5wYXJlbnRFbGVtZW50LmFwcGVuZENoaWxkKGNhbmNlbCk7CiAgY2FuY2VsLnRleHRDb250ZW50ID0gJ0NhbmNlbCB1cGxvYWQnOwogIGNvbnN0IGNhbmNlbFByb21pc2UgPSBuZXcgUHJvbWlzZSgocmVzb2x2ZSkgPT4gewogICAgY2FuY2VsLm9uY2xpY2sgPSAoKSA9PiB7CiAgICAgIHJlc29sdmUobnVsbCk7CiAgICB9OwogIH0pOwoKICAvLyBXYWl0IGZvciB0aGUgdXNlciB0byBwaWNrIHRoZSBmaWxlcy4KICBjb25zdCBmaWxlcyA9IHlpZWxkIHsKICAgIHByb21pc2U6IFByb21pc2UucmFjZShbcGlja2VkUHJvbWlzZSwgY2FuY2VsUHJvbWlzZV0pLAogICAgcmVzcG9uc2U6IHsKICAgICAgYWN0aW9uOiAnc3RhcnRpbmcnLAogICAgfQogIH07CgogIGNhbmNlbC5yZW1vdmUoKTsKCiAgLy8gRGlzYWJsZSB0aGUgaW5wdXQgZWxlbWVudCBzaW5jZSBmdXJ0aGVyIHBpY2tzIGFyZSBub3QgYWxsb3dlZC4KICBpbnB1dEVsZW1lbnQuZGlzYWJsZWQgPSB0cnVlOwoKICBpZiAoIWZpbGVzKSB7CiAgICByZXR1cm4gewogICAgICByZXNwb25zZTogewogICAgICAgIGFjdGlvbjogJ2NvbXBsZXRlJywKICAgICAgfQogICAgfTsKICB9CgogIGZvciAoY29uc3QgZmlsZSBvZiBmaWxlcykgewogICAgY29uc3QgbGkgPSBkb2N1bWVudC5jcmVhdGVFbGVtZW50KCdsaScpOwogICAgbGkuYXBwZW5kKHNwYW4oZmlsZS5uYW1lLCB7Zm9udFdlaWdodDogJ2JvbGQnfSkpOwogICAgbGkuYXBwZW5kKHNwYW4oCiAgICAgICAgYCgke2ZpbGUudHlwZSB8fCAnbi9hJ30pIC0gJHtmaWxlLnNpemV9IGJ5dGVzLCBgICsKICAgICAgICBgbGFzdCBtb2RpZmllZDogJHsKICAgICAgICAgICAgZmlsZS5sYXN0TW9kaWZpZWREYXRlID8gZmlsZS5sYXN0TW9kaWZpZWREYXRlLnRvTG9jYWxlRGF0ZVN0cmluZygpIDoKICAgICAgICAgICAgICAgICAgICAgICAgICAgICAgICAgICAgJ24vYSd9IC0gYCkpOwogICAgY29uc3QgcGVyY2VudCA9IHNwYW4oJzAlIGRvbmUnKTsKICAgIGxpLmFwcGVuZENoaWxkKHBlcmNlbnQpOwoKICAgIG91dHB1dEVsZW1lbnQuYXBwZW5kQ2hpbGQobGkpOwoKICAgIGNvbnN0IGZpbGVEYXRhUHJvbWlzZSA9IG5ldyBQcm9taXNlKChyZXNvbHZlKSA9PiB7CiAgICAgIGNvbnN0IHJlYWRlciA9IG5ldyBGaWxlUmVhZGVyKCk7CiAgICAgIHJlYWRlci5vbmxvYWQgPSAoZSkgPT4gewogICAgICAgIHJlc29sdmUoZS50YXJnZXQucmVzdWx0KTsKICAgICAgfTsKICAgICAgcmVhZGVyLnJlYWRBc0FycmF5QnVmZmVyKGZpbGUpOwogICAgfSk7CiAgICAvLyBXYWl0IGZvciB0aGUgZGF0YSB0byBiZSByZWFkeS4KICAgIGxldCBmaWxlRGF0YSA9IHlpZWxkIHsKICAgICAgcHJvbWlzZTogZmlsZURhdGFQcm9taXNlLAogICAgICByZXNwb25zZTogewogICAgICAgIGFjdGlvbjogJ2NvbnRpbnVlJywKICAgICAgfQogICAgfTsKCiAgICAvLyBVc2UgYSBjaHVua2VkIHNlbmRpbmcgdG8gYXZvaWQgbWVzc2FnZSBzaXplIGxpbWl0cy4gU2VlIGIvNjIxMTU2NjAuCiAgICBsZXQgcG9zaXRpb24gPSAwOwogICAgd2hpbGUgKHBvc2l0aW9uIDwgZmlsZURhdGEuYnl0ZUxlbmd0aCkgewogICAgICBjb25zdCBsZW5ndGggPSBNYXRoLm1pbihmaWxlRGF0YS5ieXRlTGVuZ3RoIC0gcG9zaXRpb24sIE1BWF9QQVlMT0FEX1NJWkUpOwogICAgICBjb25zdCBjaHVuayA9IG5ldyBVaW50OEFycmF5KGZpbGVEYXRhLCBwb3NpdGlvbiwgbGVuZ3RoKTsKICAgICAgcG9zaXRpb24gKz0gbGVuZ3RoOwoKICAgICAgY29uc3QgYmFzZTY0ID0gYnRvYShTdHJpbmcuZnJvbUNoYXJDb2RlLmFwcGx5KG51bGwsIGNodW5rKSk7CiAgICAgIHlpZWxkIHsKICAgICAgICByZXNwb25zZTogewogICAgICAgICAgYWN0aW9uOiAnYXBwZW5kJywKICAgICAgICAgIGZpbGU6IGZpbGUubmFtZSwKICAgICAgICAgIGRhdGE6IGJhc2U2NCwKICAgICAgICB9LAogICAgICB9OwogICAgICBwZXJjZW50LnRleHRDb250ZW50ID0KICAgICAgICAgIGAke01hdGgucm91bmQoKHBvc2l0aW9uIC8gZmlsZURhdGEuYnl0ZUxlbmd0aCkgKiAxMDApfSUgZG9uZWA7CiAgICB9CiAgfQoKICAvLyBBbGwgZG9uZS4KICB5aWVsZCB7CiAgICByZXNwb25zZTogewogICAgICBhY3Rpb246ICdjb21wbGV0ZScsCiAgICB9CiAgfTsKfQoKc2NvcGUuZ29vZ2xlID0gc2NvcGUuZ29vZ2xlIHx8IHt9OwpzY29wZS5nb29nbGUuY29sYWIgPSBzY29wZS5nb29nbGUuY29sYWIgfHwge307CnNjb3BlLmdvb2dsZS5jb2xhYi5fZmlsZXMgPSB7CiAgX3VwbG9hZEZpbGVzLAogIF91cGxvYWRGaWxlc0NvbnRpbnVlLAp9Owp9KShzZWxmKTsK",
              "ok": true,
              "headers": [
                [
                  "content-type",
                  "application/javascript"
                ]
              ],
              "status": 200,
              "status_text": ""
            }
          },
          "base_uri": "https://localhost:8080/",
          "height": 73
        }
      },
      "source": [
        "from google.colab import files\n",
        "uploaded = files.upload()"
      ],
      "execution_count": null,
      "outputs": [
        {
          "output_type": "display_data",
          "data": {
            "text/html": [
              "\n",
              "     <input type=\"file\" id=\"files-cfb1a985-84c1-4e1a-acce-12780d093850\" name=\"files[]\" multiple disabled\n",
              "        style=\"border:none\" />\n",
              "     <output id=\"result-cfb1a985-84c1-4e1a-acce-12780d093850\">\n",
              "      Upload widget is only available when the cell has been executed in the\n",
              "      current browser session. Please rerun this cell to enable.\n",
              "      </output>\n",
              "      <script src=\"/nbextensions/google.colab/files.js\"></script> "
            ],
            "text/plain": [
              "<IPython.core.display.HTML object>"
            ]
          },
          "metadata": {
            "tags": []
          }
        },
        {
          "output_type": "stream",
          "text": [
            "Saving final.csv to final.csv\n"
          ],
          "name": "stdout"
        }
      ]
    },
    {
      "cell_type": "code",
      "metadata": {
        "id": "bJ-m6tJ1kZPi",
        "outputId": "5c0eb241-2edc-4abc-d7b3-30595ffaf022",
        "colab": {
          "base_uri": "https://localhost:8080/",
          "height": 453
        }
      },
      "source": [
        "import io\n",
        "df = pd.read_csv(io.BytesIO(uploaded['final.csv']))\n",
        "df"
      ],
      "execution_count": null,
      "outputs": [
        {
          "output_type": "execute_result",
          "data": {
            "text/html": [
              "<div>\n",
              "<style scoped>\n",
              "    .dataframe tbody tr th:only-of-type {\n",
              "        vertical-align: middle;\n",
              "    }\n",
              "\n",
              "    .dataframe tbody tr th {\n",
              "        vertical-align: top;\n",
              "    }\n",
              "\n",
              "    .dataframe thead th {\n",
              "        text-align: right;\n",
              "    }\n",
              "</style>\n",
              "<table border=\"1\" class=\"dataframe\">\n",
              "  <thead>\n",
              "    <tr style=\"text-align: right;\">\n",
              "      <th></th>\n",
              "      <th>Unnamed: 0</th>\n",
              "      <th>danceability</th>\n",
              "      <th>energy</th>\n",
              "      <th>key</th>\n",
              "      <th>loudness</th>\n",
              "      <th>mode</th>\n",
              "      <th>speechiness</th>\n",
              "      <th>acousticness</th>\n",
              "      <th>instrumentalness</th>\n",
              "      <th>liveness</th>\n",
              "      <th>valence</th>\n",
              "      <th>tempo</th>\n",
              "      <th>duration_ms</th>\n",
              "      <th>time_signature</th>\n",
              "      <th>chorus_hit</th>\n",
              "      <th>sections</th>\n",
              "      <th>target</th>\n",
              "    </tr>\n",
              "  </thead>\n",
              "  <tbody>\n",
              "    <tr>\n",
              "      <th>0</th>\n",
              "      <td>0</td>\n",
              "      <td>0.578</td>\n",
              "      <td>0.471</td>\n",
              "      <td>4</td>\n",
              "      <td>-7.270</td>\n",
              "      <td>1</td>\n",
              "      <td>0.0289</td>\n",
              "      <td>0.368000</td>\n",
              "      <td>0.000000</td>\n",
              "      <td>0.1590</td>\n",
              "      <td>0.532</td>\n",
              "      <td>133.061</td>\n",
              "      <td>196707</td>\n",
              "      <td>4</td>\n",
              "      <td>30.88059</td>\n",
              "      <td>13</td>\n",
              "      <td>1</td>\n",
              "    </tr>\n",
              "    <tr>\n",
              "      <th>1</th>\n",
              "      <td>1</td>\n",
              "      <td>0.704</td>\n",
              "      <td>0.854</td>\n",
              "      <td>10</td>\n",
              "      <td>-5.477</td>\n",
              "      <td>0</td>\n",
              "      <td>0.1830</td>\n",
              "      <td>0.018500</td>\n",
              "      <td>0.000000</td>\n",
              "      <td>0.1480</td>\n",
              "      <td>0.688</td>\n",
              "      <td>92.988</td>\n",
              "      <td>242587</td>\n",
              "      <td>4</td>\n",
              "      <td>41.51106</td>\n",
              "      <td>10</td>\n",
              "      <td>1</td>\n",
              "    </tr>\n",
              "    <tr>\n",
              "      <th>2</th>\n",
              "      <td>2</td>\n",
              "      <td>0.162</td>\n",
              "      <td>0.836</td>\n",
              "      <td>9</td>\n",
              "      <td>-3.009</td>\n",
              "      <td>1</td>\n",
              "      <td>0.0473</td>\n",
              "      <td>0.000111</td>\n",
              "      <td>0.004570</td>\n",
              "      <td>0.1740</td>\n",
              "      <td>0.300</td>\n",
              "      <td>86.964</td>\n",
              "      <td>338893</td>\n",
              "      <td>4</td>\n",
              "      <td>65.32887</td>\n",
              "      <td>13</td>\n",
              "      <td>0</td>\n",
              "    </tr>\n",
              "    <tr>\n",
              "      <th>3</th>\n",
              "      <td>3</td>\n",
              "      <td>0.188</td>\n",
              "      <td>0.994</td>\n",
              "      <td>4</td>\n",
              "      <td>-3.745</td>\n",
              "      <td>1</td>\n",
              "      <td>0.1660</td>\n",
              "      <td>0.000007</td>\n",
              "      <td>0.078400</td>\n",
              "      <td>0.1920</td>\n",
              "      <td>0.333</td>\n",
              "      <td>148.440</td>\n",
              "      <td>255667</td>\n",
              "      <td>4</td>\n",
              "      <td>58.59528</td>\n",
              "      <td>9</td>\n",
              "      <td>0</td>\n",
              "    </tr>\n",
              "    <tr>\n",
              "      <th>4</th>\n",
              "      <td>4</td>\n",
              "      <td>0.630</td>\n",
              "      <td>0.764</td>\n",
              "      <td>2</td>\n",
              "      <td>-4.353</td>\n",
              "      <td>1</td>\n",
              "      <td>0.0275</td>\n",
              "      <td>0.363000</td>\n",
              "      <td>0.000000</td>\n",
              "      <td>0.1250</td>\n",
              "      <td>0.631</td>\n",
              "      <td>112.098</td>\n",
              "      <td>193760</td>\n",
              "      <td>4</td>\n",
              "      <td>22.62384</td>\n",
              "      <td>10</td>\n",
              "      <td>1</td>\n",
              "    </tr>\n",
              "    <tr>\n",
              "      <th>...</th>\n",
              "      <td>...</td>\n",
              "      <td>...</td>\n",
              "      <td>...</td>\n",
              "      <td>...</td>\n",
              "      <td>...</td>\n",
              "      <td>...</td>\n",
              "      <td>...</td>\n",
              "      <td>...</td>\n",
              "      <td>...</td>\n",
              "      <td>...</td>\n",
              "      <td>...</td>\n",
              "      <td>...</td>\n",
              "      <td>...</td>\n",
              "      <td>...</td>\n",
              "      <td>...</td>\n",
              "      <td>...</td>\n",
              "      <td>...</td>\n",
              "    </tr>\n",
              "    <tr>\n",
              "      <th>41101</th>\n",
              "      <td>5515</td>\n",
              "      <td>0.396</td>\n",
              "      <td>0.795</td>\n",
              "      <td>9</td>\n",
              "      <td>-6.070</td>\n",
              "      <td>0</td>\n",
              "      <td>0.2340</td>\n",
              "      <td>0.000928</td>\n",
              "      <td>0.000209</td>\n",
              "      <td>0.1820</td>\n",
              "      <td>0.762</td>\n",
              "      <td>152.943</td>\n",
              "      <td>82107</td>\n",
              "      <td>4</td>\n",
              "      <td>30.34109</td>\n",
              "      <td>6</td>\n",
              "      <td>0</td>\n",
              "    </tr>\n",
              "    <tr>\n",
              "      <th>41102</th>\n",
              "      <td>5516</td>\n",
              "      <td>0.621</td>\n",
              "      <td>0.655</td>\n",
              "      <td>9</td>\n",
              "      <td>-6.281</td>\n",
              "      <td>0</td>\n",
              "      <td>0.0309</td>\n",
              "      <td>0.050600</td>\n",
              "      <td>0.006260</td>\n",
              "      <td>0.0937</td>\n",
              "      <td>0.690</td>\n",
              "      <td>134.167</td>\n",
              "      <td>211653</td>\n",
              "      <td>4</td>\n",
              "      <td>34.89506</td>\n",
              "      <td>10</td>\n",
              "      <td>0</td>\n",
              "    </tr>\n",
              "    <tr>\n",
              "      <th>41103</th>\n",
              "      <td>5517</td>\n",
              "      <td>0.562</td>\n",
              "      <td>0.314</td>\n",
              "      <td>10</td>\n",
              "      <td>-15.213</td>\n",
              "      <td>0</td>\n",
              "      <td>0.0298</td>\n",
              "      <td>0.440000</td>\n",
              "      <td>0.000011</td>\n",
              "      <td>0.1060</td>\n",
              "      <td>0.571</td>\n",
              "      <td>166.847</td>\n",
              "      <td>189827</td>\n",
              "      <td>4</td>\n",
              "      <td>21.11763</td>\n",
              "      <td>10</td>\n",
              "      <td>1</td>\n",
              "    </tr>\n",
              "    <tr>\n",
              "      <th>41104</th>\n",
              "      <td>5518</td>\n",
              "      <td>0.622</td>\n",
              "      <td>0.781</td>\n",
              "      <td>7</td>\n",
              "      <td>-6.080</td>\n",
              "      <td>1</td>\n",
              "      <td>0.0368</td>\n",
              "      <td>0.000101</td>\n",
              "      <td>0.755000</td>\n",
              "      <td>0.3830</td>\n",
              "      <td>0.214</td>\n",
              "      <td>120.051</td>\n",
              "      <td>330053</td>\n",
              "      <td>4</td>\n",
              "      <td>47.13558</td>\n",
              "      <td>11</td>\n",
              "      <td>0</td>\n",
              "    </tr>\n",
              "    <tr>\n",
              "      <th>41105</th>\n",
              "      <td>5519</td>\n",
              "      <td>0.664</td>\n",
              "      <td>0.739</td>\n",
              "      <td>2</td>\n",
              "      <td>-9.005</td>\n",
              "      <td>1</td>\n",
              "      <td>0.0262</td>\n",
              "      <td>0.106000</td>\n",
              "      <td>0.054200</td>\n",
              "      <td>0.3330</td>\n",
              "      <td>0.458</td>\n",
              "      <td>92.257</td>\n",
              "      <td>293973</td>\n",
              "      <td>4</td>\n",
              "      <td>42.50341</td>\n",
              "      <td>14</td>\n",
              "      <td>1</td>\n",
              "    </tr>\n",
              "  </tbody>\n",
              "</table>\n",
              "<p>41106 rows × 17 columns</p>\n",
              "</div>"
            ],
            "text/plain": [
              "       Unnamed: 0  danceability  energy  ...  chorus_hit  sections  target\n",
              "0               0         0.578   0.471  ...    30.88059        13       1\n",
              "1               1         0.704   0.854  ...    41.51106        10       1\n",
              "2               2         0.162   0.836  ...    65.32887        13       0\n",
              "3               3         0.188   0.994  ...    58.59528         9       0\n",
              "4               4         0.630   0.764  ...    22.62384        10       1\n",
              "...           ...           ...     ...  ...         ...       ...     ...\n",
              "41101        5515         0.396   0.795  ...    30.34109         6       0\n",
              "41102        5516         0.621   0.655  ...    34.89506        10       0\n",
              "41103        5517         0.562   0.314  ...    21.11763        10       1\n",
              "41104        5518         0.622   0.781  ...    47.13558        11       0\n",
              "41105        5519         0.664   0.739  ...    42.50341        14       1\n",
              "\n",
              "[41106 rows x 17 columns]"
            ]
          },
          "metadata": {
            "tags": []
          },
          "execution_count": 28
        }
      ]
    },
    {
      "cell_type": "code",
      "metadata": {
        "id": "N8s4UdCHkm0_",
        "outputId": "e247edd5-792a-4ab8-effe-451ff61954fa",
        "colab": {
          "base_uri": "https://localhost:8080/",
          "height": 435
        }
      },
      "source": [
        "df.drop(['Unnamed: 0'],axis=1,inplace=True)\n",
        "df"
      ],
      "execution_count": null,
      "outputs": [
        {
          "output_type": "execute_result",
          "data": {
            "text/html": [
              "<div>\n",
              "<style scoped>\n",
              "    .dataframe tbody tr th:only-of-type {\n",
              "        vertical-align: middle;\n",
              "    }\n",
              "\n",
              "    .dataframe tbody tr th {\n",
              "        vertical-align: top;\n",
              "    }\n",
              "\n",
              "    .dataframe thead th {\n",
              "        text-align: right;\n",
              "    }\n",
              "</style>\n",
              "<table border=\"1\" class=\"dataframe\">\n",
              "  <thead>\n",
              "    <tr style=\"text-align: right;\">\n",
              "      <th></th>\n",
              "      <th>danceability</th>\n",
              "      <th>energy</th>\n",
              "      <th>key</th>\n",
              "      <th>loudness</th>\n",
              "      <th>mode</th>\n",
              "      <th>speechiness</th>\n",
              "      <th>acousticness</th>\n",
              "      <th>instrumentalness</th>\n",
              "      <th>liveness</th>\n",
              "      <th>valence</th>\n",
              "      <th>tempo</th>\n",
              "      <th>duration_ms</th>\n",
              "      <th>time_signature</th>\n",
              "      <th>chorus_hit</th>\n",
              "      <th>sections</th>\n",
              "      <th>target</th>\n",
              "    </tr>\n",
              "  </thead>\n",
              "  <tbody>\n",
              "    <tr>\n",
              "      <th>0</th>\n",
              "      <td>0.578</td>\n",
              "      <td>0.471</td>\n",
              "      <td>4</td>\n",
              "      <td>-7.270</td>\n",
              "      <td>1</td>\n",
              "      <td>0.0289</td>\n",
              "      <td>0.368000</td>\n",
              "      <td>0.000000</td>\n",
              "      <td>0.1590</td>\n",
              "      <td>0.532</td>\n",
              "      <td>133.061</td>\n",
              "      <td>196707</td>\n",
              "      <td>4</td>\n",
              "      <td>30.88059</td>\n",
              "      <td>13</td>\n",
              "      <td>1</td>\n",
              "    </tr>\n",
              "    <tr>\n",
              "      <th>1</th>\n",
              "      <td>0.704</td>\n",
              "      <td>0.854</td>\n",
              "      <td>10</td>\n",
              "      <td>-5.477</td>\n",
              "      <td>0</td>\n",
              "      <td>0.1830</td>\n",
              "      <td>0.018500</td>\n",
              "      <td>0.000000</td>\n",
              "      <td>0.1480</td>\n",
              "      <td>0.688</td>\n",
              "      <td>92.988</td>\n",
              "      <td>242587</td>\n",
              "      <td>4</td>\n",
              "      <td>41.51106</td>\n",
              "      <td>10</td>\n",
              "      <td>1</td>\n",
              "    </tr>\n",
              "    <tr>\n",
              "      <th>2</th>\n",
              "      <td>0.162</td>\n",
              "      <td>0.836</td>\n",
              "      <td>9</td>\n",
              "      <td>-3.009</td>\n",
              "      <td>1</td>\n",
              "      <td>0.0473</td>\n",
              "      <td>0.000111</td>\n",
              "      <td>0.004570</td>\n",
              "      <td>0.1740</td>\n",
              "      <td>0.300</td>\n",
              "      <td>86.964</td>\n",
              "      <td>338893</td>\n",
              "      <td>4</td>\n",
              "      <td>65.32887</td>\n",
              "      <td>13</td>\n",
              "      <td>0</td>\n",
              "    </tr>\n",
              "    <tr>\n",
              "      <th>3</th>\n",
              "      <td>0.188</td>\n",
              "      <td>0.994</td>\n",
              "      <td>4</td>\n",
              "      <td>-3.745</td>\n",
              "      <td>1</td>\n",
              "      <td>0.1660</td>\n",
              "      <td>0.000007</td>\n",
              "      <td>0.078400</td>\n",
              "      <td>0.1920</td>\n",
              "      <td>0.333</td>\n",
              "      <td>148.440</td>\n",
              "      <td>255667</td>\n",
              "      <td>4</td>\n",
              "      <td>58.59528</td>\n",
              "      <td>9</td>\n",
              "      <td>0</td>\n",
              "    </tr>\n",
              "    <tr>\n",
              "      <th>4</th>\n",
              "      <td>0.630</td>\n",
              "      <td>0.764</td>\n",
              "      <td>2</td>\n",
              "      <td>-4.353</td>\n",
              "      <td>1</td>\n",
              "      <td>0.0275</td>\n",
              "      <td>0.363000</td>\n",
              "      <td>0.000000</td>\n",
              "      <td>0.1250</td>\n",
              "      <td>0.631</td>\n",
              "      <td>112.098</td>\n",
              "      <td>193760</td>\n",
              "      <td>4</td>\n",
              "      <td>22.62384</td>\n",
              "      <td>10</td>\n",
              "      <td>1</td>\n",
              "    </tr>\n",
              "    <tr>\n",
              "      <th>...</th>\n",
              "      <td>...</td>\n",
              "      <td>...</td>\n",
              "      <td>...</td>\n",
              "      <td>...</td>\n",
              "      <td>...</td>\n",
              "      <td>...</td>\n",
              "      <td>...</td>\n",
              "      <td>...</td>\n",
              "      <td>...</td>\n",
              "      <td>...</td>\n",
              "      <td>...</td>\n",
              "      <td>...</td>\n",
              "      <td>...</td>\n",
              "      <td>...</td>\n",
              "      <td>...</td>\n",
              "      <td>...</td>\n",
              "    </tr>\n",
              "    <tr>\n",
              "      <th>41101</th>\n",
              "      <td>0.396</td>\n",
              "      <td>0.795</td>\n",
              "      <td>9</td>\n",
              "      <td>-6.070</td>\n",
              "      <td>0</td>\n",
              "      <td>0.2340</td>\n",
              "      <td>0.000928</td>\n",
              "      <td>0.000209</td>\n",
              "      <td>0.1820</td>\n",
              "      <td>0.762</td>\n",
              "      <td>152.943</td>\n",
              "      <td>82107</td>\n",
              "      <td>4</td>\n",
              "      <td>30.34109</td>\n",
              "      <td>6</td>\n",
              "      <td>0</td>\n",
              "    </tr>\n",
              "    <tr>\n",
              "      <th>41102</th>\n",
              "      <td>0.621</td>\n",
              "      <td>0.655</td>\n",
              "      <td>9</td>\n",
              "      <td>-6.281</td>\n",
              "      <td>0</td>\n",
              "      <td>0.0309</td>\n",
              "      <td>0.050600</td>\n",
              "      <td>0.006260</td>\n",
              "      <td>0.0937</td>\n",
              "      <td>0.690</td>\n",
              "      <td>134.167</td>\n",
              "      <td>211653</td>\n",
              "      <td>4</td>\n",
              "      <td>34.89506</td>\n",
              "      <td>10</td>\n",
              "      <td>0</td>\n",
              "    </tr>\n",
              "    <tr>\n",
              "      <th>41103</th>\n",
              "      <td>0.562</td>\n",
              "      <td>0.314</td>\n",
              "      <td>10</td>\n",
              "      <td>-15.213</td>\n",
              "      <td>0</td>\n",
              "      <td>0.0298</td>\n",
              "      <td>0.440000</td>\n",
              "      <td>0.000011</td>\n",
              "      <td>0.1060</td>\n",
              "      <td>0.571</td>\n",
              "      <td>166.847</td>\n",
              "      <td>189827</td>\n",
              "      <td>4</td>\n",
              "      <td>21.11763</td>\n",
              "      <td>10</td>\n",
              "      <td>1</td>\n",
              "    </tr>\n",
              "    <tr>\n",
              "      <th>41104</th>\n",
              "      <td>0.622</td>\n",
              "      <td>0.781</td>\n",
              "      <td>7</td>\n",
              "      <td>-6.080</td>\n",
              "      <td>1</td>\n",
              "      <td>0.0368</td>\n",
              "      <td>0.000101</td>\n",
              "      <td>0.755000</td>\n",
              "      <td>0.3830</td>\n",
              "      <td>0.214</td>\n",
              "      <td>120.051</td>\n",
              "      <td>330053</td>\n",
              "      <td>4</td>\n",
              "      <td>47.13558</td>\n",
              "      <td>11</td>\n",
              "      <td>0</td>\n",
              "    </tr>\n",
              "    <tr>\n",
              "      <th>41105</th>\n",
              "      <td>0.664</td>\n",
              "      <td>0.739</td>\n",
              "      <td>2</td>\n",
              "      <td>-9.005</td>\n",
              "      <td>1</td>\n",
              "      <td>0.0262</td>\n",
              "      <td>0.106000</td>\n",
              "      <td>0.054200</td>\n",
              "      <td>0.3330</td>\n",
              "      <td>0.458</td>\n",
              "      <td>92.257</td>\n",
              "      <td>293973</td>\n",
              "      <td>4</td>\n",
              "      <td>42.50341</td>\n",
              "      <td>14</td>\n",
              "      <td>1</td>\n",
              "    </tr>\n",
              "  </tbody>\n",
              "</table>\n",
              "<p>41106 rows × 16 columns</p>\n",
              "</div>"
            ],
            "text/plain": [
              "       danceability  energy  key  ...  chorus_hit  sections  target\n",
              "0             0.578   0.471    4  ...    30.88059        13       1\n",
              "1             0.704   0.854   10  ...    41.51106        10       1\n",
              "2             0.162   0.836    9  ...    65.32887        13       0\n",
              "3             0.188   0.994    4  ...    58.59528         9       0\n",
              "4             0.630   0.764    2  ...    22.62384        10       1\n",
              "...             ...     ...  ...  ...         ...       ...     ...\n",
              "41101         0.396   0.795    9  ...    30.34109         6       0\n",
              "41102         0.621   0.655    9  ...    34.89506        10       0\n",
              "41103         0.562   0.314   10  ...    21.11763        10       1\n",
              "41104         0.622   0.781    7  ...    47.13558        11       0\n",
              "41105         0.664   0.739    2  ...    42.50341        14       1\n",
              "\n",
              "[41106 rows x 16 columns]"
            ]
          },
          "metadata": {
            "tags": []
          },
          "execution_count": 29
        }
      ]
    },
    {
      "cell_type": "code",
      "metadata": {
        "id": "g0gEozhxlLuI"
      },
      "source": [
        "from sklearn.feature_selection import SelectKBest\n",
        "from sklearn.feature_selection import chi2\n",
        "Features=df[['danceability','energy','key','loudness','mode','speechiness','acousticness','instrumentalness','liveness','valence','tempo','duration_ms','time_signature','chorus_hit','sections']]\n",
        "target=df[['target']]"
      ],
      "execution_count": null,
      "outputs": []
    },
    {
      "cell_type": "code",
      "metadata": {
        "id": "KmPqAbW9lV2F",
        "outputId": "b2ae39d0-cec7-4530-eb8c-703dc42097f2",
        "colab": {
          "base_uri": "https://localhost:8080/",
          "height": 372
        }
      },
      "source": [
        "from sklearn.ensemble import ExtraTreesClassifier                #measuring feature importance\n",
        "model = ExtraTreesClassifier()\n",
        "model.fit(Features,target)\n",
        "print(model.feature_importances_) #use inbuilt class feature_importances of tree based classifiers\n",
        "#plot graph of feature importances for better visualization\n",
        "feat_importances = pd.Series(model.feature_importances_, index=Features.columns)              \n",
        "feat_importances.nlargest(10).plot(kind='barh')\n",
        "plt.show()"
      ],
      "execution_count": null,
      "outputs": [
        {
          "output_type": "stream",
          "text": [
            "/usr/local/lib/python3.6/dist-packages/ipykernel_launcher.py:3: DataConversionWarning: A column-vector y was passed when a 1d array was expected. Please change the shape of y to (n_samples,), for example using ravel().\n",
            "  This is separate from the ipykernel package so we can avoid doing imports until\n"
          ],
          "name": "stderr"
        },
        {
          "output_type": "stream",
          "text": [
            "[0.09844758 0.08255171 0.04464957 0.0675028  0.01365734 0.0604546\n",
            " 0.1035868  0.17613304 0.05003743 0.07300017 0.05148681 0.06254095\n",
            " 0.01480727 0.04864809 0.05249584]\n"
          ],
          "name": "stdout"
        },
        {
          "output_type": "display_data",
          "data": {
            "image/png": "[encoded data removed]",
            "text/plain": [
              "<Figure size 432x288 with 1 Axes>"
            ]
          },
          "metadata": {
            "tags": [],
            "needs_background": "light"
          }
        }
      ]
    },
    {
      "cell_type": "code",
      "metadata": {
        "id": "u85BMByhltiQ",
        "outputId": "c4a0eebb-2932-4848-cdc7-a750c56999f0",
        "colab": {
          "base_uri": "https://localhost:8080/"
        }
      },
      "source": [
        "df.target.value_counts()           #Seeing if the dataset is balanced or not"
      ],
      "execution_count": null,
      "outputs": [
        {
          "output_type": "execute_result",
          "data": {
            "text/plain": [
              "1    20553\n",
              "0    20553\n",
              "Name: target, dtype: int64"
            ]
          },
          "metadata": {
            "tags": []
          },
          "execution_count": 32
        }
      ]
    },
    {
      "cell_type": "markdown",
      "metadata": {
        "id": "a0dD8B4imJGM"
      },
      "source": [
        "**THE DATASET IS BALANCED**\n"
      ]
    },
    {
      "cell_type": "markdown",
      "metadata": {
        "id": "1B3dhIs7vQIz"
      },
      "source": [
        " **SHUFFLING THE DATASET**"
      ]
    },
    {
      "cell_type": "code",
      "metadata": {
        "id": "dUmOuV4Svdly"
      },
      "source": [
        "df = df.sample(frac = 1)                "
      ],
      "execution_count": null,
      "outputs": []
    },
    {
      "cell_type": "code",
      "metadata": {
        "id": "Zcq5ptH5vZ1q",
        "outputId": "21054746-bb63-4471-d08c-8ede2a24387c",
        "colab": {
          "base_uri": "https://localhost:8080/"
        }
      },
      "source": [
        "print(\"\\nShuffled DataFrame:\") \n",
        "print(df.head())"
      ],
      "execution_count": null,
      "outputs": [
        {
          "output_type": "stream",
          "text": [
            "\n",
            "Shuffled DataFrame:\n",
            "       danceability  energy  key  ...  chorus_hit  sections  target\n",
            "22525         0.410   0.494    7  ...    28.23437        28       0\n",
            "31084         0.611   0.382    8  ...    20.49498        16       0\n",
            "980           0.434   0.148    7  ...    32.51601        10       0\n",
            "15845         0.360   0.463    2  ...    28.17072         9       1\n",
            "7793          0.771   0.695    2  ...    44.53293        10       0\n",
            "\n",
            "[5 rows x 16 columns]\n"
          ],
          "name": "stdout"
        }
      ]
    },
    {
      "cell_type": "markdown",
      "metadata": {
        "id": "53zWOuEU3Zbo"
      },
      "source": [
        "**STANDARDIZATION OF INPUTS**"
      ]
    },
    {
      "cell_type": "code",
      "metadata": {
        "id": "zQW1eHvI3dek"
      },
      "source": [
        "from sklearn import preprocessing\n",
        "unscaled_inputs = df.iloc[:,0:-1]\n",
        "target = df.iloc[:,[-1]]\n",
        "scaled_inputs = preprocessing.scale(unscaled_inputs)"
      ],
      "execution_count": null,
      "outputs": []
    },
    {
      "cell_type": "markdown",
      "metadata": {
        "id": "JF9vR_Bx3ser"
      },
      "source": [
        "**SPLITTING THE DATASET**"
      ]
    },
    {
      "cell_type": "code",
      "metadata": {
        "id": "dqvsIWd33wCP"
      },
      "source": [
        "samples_count = scaled_inputs.shape[0]\n",
        "train_samples_count = int(0.8*samples_count)\n",
        "validation_samples_count = int(0.1*samples_count)\n",
        "test_samples_count = samples_count - train_samples_count - validation_samples_count"
      ],
      "execution_count": null,
      "outputs": []
    },
    {
      "cell_type": "code",
      "metadata": {
        "id": "IKuvBrIi4j-x"
      },
      "source": [
        "\n",
        "train_inputs = scaled_inputs[:train_samples_count]\n",
        "train_targets = target[:train_samples_count]"
      ],
      "execution_count": null,
      "outputs": []
    },
    {
      "cell_type": "code",
      "metadata": {
        "id": "lqwFb6WO4m9W"
      },
      "source": [
        "\n",
        "validation_inputs = scaled_inputs[train_samples_count:train_samples_count+validation_samples_count]\n",
        "validation_targets = target[train_samples_count:train_samples_count+validation_samples_count]"
      ],
      "execution_count": null,
      "outputs": []
    },
    {
      "cell_type": "code",
      "metadata": {
        "id": "iEd6z6X44sWk"
      },
      "source": [
        "\n",
        "test_inputs = scaled_inputs[train_samples_count+validation_samples_count:]\n",
        "test_targets = target[train_samples_count+validation_samples_count:]"
      ],
      "execution_count": null,
      "outputs": []
    },
    {
      "cell_type": "code",
      "metadata": {
        "id": "zI8FeBxF4vbG",
        "outputId": "3e6cbe2b-228d-44ee-e759-11aadc4cef05",
        "colab": {
          "base_uri": "https://localhost:8080/"
        }
      },
      "source": [
        "\n",
        "print(np.sum(train_targets), train_samples_count, np.sum(train_targets) / train_samples_count)\n",
        "print(np.sum(validation_targets), validation_samples_count, np.sum(validation_targets) / validation_samples_count)\n",
        "print(np.sum(test_targets), test_samples_count, np.sum(test_targets) / test_samples_count)"
      ],
      "execution_count": null,
      "outputs": [
        {
          "output_type": "stream",
          "text": [
            "target    16428\n",
            "dtype: int64 32884 target    0.499574\n",
            "dtype: float64\n",
            "target    2046\n",
            "dtype: int64 4110 target    0.49781\n",
            "dtype: float64\n",
            "target    2079\n",
            "dtype: int64 4112 target    0.505593\n",
            "dtype: float64\n"
          ],
          "name": "stdout"
        }
      ]
    },
    {
      "cell_type": "code",
      "metadata": {
        "id": "1UrD1GfK4z1b"
      },
      "source": [
        "\n",
        "\n",
        "np.savez('Spotify_data_train', inputs=train_inputs, targets=train_targets)\n",
        "np.savez('Spotify_data_validation', inputs=validation_inputs, targets=validation_targets)\n",
        "np.savez('Spotify_data_test', inputs=test_inputs, targets=test_targets)"
      ],
      "execution_count": null,
      "outputs": []
    },
    {
      "cell_type": "code",
      "metadata": {
        "id": "nUh1_74I5BOD"
      },
      "source": [
        "npz = np.load('Spotify_data_train.npz')\n",
        "train_inputs = npz['inputs'].astype(np.float)\n",
        "train_targets = npz['targets'].astype(np.int)\n",
        "npz = np.load('Spotify_data_validation.npz')\n",
        "validation_inputs, validation_targets = npz['inputs'].astype(np.float), npz['targets'].astype(np.int)\n",
        "npz = np.load('Spotify_data_test.npz')\n",
        "test_inputs, test_targets = npz['inputs'].astype(np.float), npz['targets'].astype(np.int)\n"
      ],
      "execution_count": null,
      "outputs": []
    },
    {
      "cell_type": "markdown",
      "metadata": {
        "id": "bi8hAPlu5ESJ"
      },
      "source": [
        "**MODEL**"
      ]
    },
    {
      "cell_type": "code",
      "metadata": {
        "id": "6Nmz1uvR5Gzw"
      },
      "source": [
        "input_size = 15 \n",
        "output_size = 2 \n",
        "hidden_layer_size = 50 \n",
        "model = tf.keras.Sequential([\n",
        "    \n",
        "    tf.keras.layers.Dense(hidden_layer_size, activation='relu'), \n",
        "    tf.keras.layers.Dense(hidden_layer_size, activation='relu'), \n",
        "    tf.keras.layers.Dense(hidden_layer_size, activation='relu'), \n",
        "    \n",
        "    tf.keras.layers.Dense(output_size, activation='softmax') \n",
        "])"
      ],
      "execution_count": null,
      "outputs": []
    },
    {
      "cell_type": "code",
      "metadata": {
        "id": "wbee5NcP5OYt"
      },
      "source": [
        "model.compile(optimizer=\"adam\", loss='sparse_categorical_crossentropy', metrics=['accuracy'])"
      ],
      "execution_count": null,
      "outputs": []
    },
    {
      "cell_type": "code",
      "metadata": {
        "id": "l9RDvZ0c5Wz8",
        "outputId": "f902f392-19ea-46e9-8001-372240afc2cf",
        "colab": {
          "base_uri": "https://localhost:8080/"
        }
      },
      "source": [
        "batch_size = 300\n",
        "max_epochs = 6\n",
        "history = model.fit(  train_inputs, \n",
        "                      train_targets, \n",
        "                      batch_size=batch_size, \n",
        "                      epochs=max_epochs, \n",
        "                      validation_data=(validation_inputs, validation_targets), \n",
        "                      verbose = 2)  "
      ],
      "execution_count": null,
      "outputs": [
        {
          "output_type": "stream",
          "text": [
            "Epoch 1/6\n",
            "110/110 - 0s - loss: 0.5479 - accuracy: 0.7109 - val_loss: 0.5016 - val_accuracy: 0.7518\n",
            "Epoch 2/6\n",
            "110/110 - 0s - loss: 0.4907 - accuracy: 0.7596 - val_loss: 0.4892 - val_accuracy: 0.7594\n",
            "Epoch 3/6\n",
            "110/110 - 0s - loss: 0.4796 - accuracy: 0.7677 - val_loss: 0.4815 - val_accuracy: 0.7623\n",
            "Epoch 4/6\n",
            "110/110 - 0s - loss: 0.4722 - accuracy: 0.7716 - val_loss: 0.4832 - val_accuracy: 0.7640\n",
            "Epoch 5/6\n",
            "110/110 - 0s - loss: 0.4682 - accuracy: 0.7751 - val_loss: 0.4756 - val_accuracy: 0.7681\n",
            "Epoch 6/6\n",
            "110/110 - 0s - loss: 0.4637 - accuracy: 0.7766 - val_loss: 0.4737 - val_accuracy: 0.7706\n"
          ],
          "name": "stdout"
        }
      ]
    },
    {
      "cell_type": "markdown",
      "metadata": {
        "id": "Qi_ciMLI5lkF"
      },
      "source": [
        "**VISUALIZATION**"
      ]
    },
    {
      "cell_type": "code",
      "metadata": {
        "id": "MfJg4KWrh-cC",
        "outputId": "f61b1d8c-3b6b-4f07-f9fa-0dd13212ed28",
        "colab": {
          "base_uri": "https://localhost:8080/",
          "height": 279
        }
      },
      "source": [
        "training_loss = history.history['loss']\n",
        "validation_loss = history.history['val_loss']\n",
        "epoch_count = range(1, len(training_loss) + 1)\n",
        "plt.plot(epoch_count, training_loss, 'r--')\n",
        "plt.plot(epoch_count, validation_loss, 'b-')\n",
        "plt.legend(['Training Loss', 'Validation Loss'])\n",
        "plt.xlabel('Epoch')\n",
        "plt.ylabel('Loss')\n",
        "plt.show();"
      ],
      "execution_count": null,
      "outputs": [
        {
          "output_type": "display_data",
          "data": {
            "image/png": "[encoded data removed]",
            "text/plain": [
              "<Figure size 432x288 with 1 Axes>"
            ]
          },
          "metadata": {
            "tags": [],
            "needs_background": "light"
          }
        }
      ]
    },
    {
      "cell_type": "code",
      "metadata": {
        "id": "fNZDU2FrieGt",
        "outputId": "c7386a9f-71bf-4c1b-9f8c-2c96481ef46c",
        "colab": {
          "base_uri": "https://localhost:8080/"
        }
      },
      "source": [
        "test_loss, test_accuracy = model.evaluate(test_inputs, test_targets)\n",
        "print('\\nTest loss: {0:.2f}. Test accuracy: {1:.2f}%'.format(test_loss, test_accuracy*100.))"
      ],
      "execution_count": null,
      "outputs": [
        {
          "output_type": "stream",
          "text": [
            "129/129 [==============================] - 0s 929us/step - loss: 0.4761 - accuracy: 0.7670\n",
            "\n",
            "Test loss: 0.48. Test accuracy: 76.70%\n"
          ],
          "name": "stdout"
        }
      ]
    },
    {
      "cell_type": "code",
      "metadata": {
        "id": "OisKvoqRGPm8"
      },
      "source": [
        "model.save(\"model_final.h5\")"
      ],
      "execution_count": null,
      "outputs": []
    },
    {
      "cell_type": "code",
      "metadata": {
        "id": "IoqOW5zWYiBI",
        "outputId": "6e812da5-db26-4d7b-af11-6614ce91647a",
        "colab": {
          "base_uri": "https://localhost:8080/",
          "height": 35
        }
      },
      "source": [
        "import os\n",
        "os.getcwd()"
      ],
      "execution_count": null,
      "outputs": [
        {
          "output_type": "execute_result",
          "data": {
            "application/vnd.google.colaboratory.intrinsic+json": {
              "type": "string"
            },
            "text/plain": [
              "'/content'"
            ]
          },
          "metadata": {
            "tags": []
          },
          "execution_count": 49
        }
      ]
    },
    {
      "cell_type": "code",
      "metadata": {
        "id": "oAEoaR5lhtPj",
        "outputId": "79e4a712-59a9-4b94-9d20-45017bc5e7e8",
        "colab": {
          "base_uri": "https://localhost:8080/"
        }
      },
      "source": [
        "prediction=model.predict([[4,2,1,4,3,9,4,2,5,6,3,6,6,3,8]])\n",
        "prediction"
      ],
      "execution_count": null,
      "outputs": [
        {
          "output_type": "execute_result",
          "data": {
            "text/plain": [
              "array([[9.995808e-01, 4.191805e-04]], dtype=float32)"
            ]
          },
          "metadata": {
            "tags": []
          },
          "execution_count": 50
        }
      ]
    },
    {
      "cell_type": "code",
      "metadata": {
        "id": "lWr0IJD6ibdZ",
        "outputId": "e322d309-d156-4645-fed3-7c6f20ec6d5b",
        "colab": {
          "base_uri": "https://localhost:8080/"
        }
      },
      "source": [
        "np.argmax(prediction)"
      ],
      "execution_count": null,
      "outputs": [
        {
          "output_type": "execute_result",
          "data": {
            "text/plain": [
              "0"
            ]
          },
          "metadata": {
            "tags": []
          },
          "execution_count": 51
        }
      ]
    },
    {
      "cell_type": "code",
      "metadata": {
        "id": "4NfpQ9e3kvN8"
      },
      "source": [
        "model=tf.keras.models.load_model(\"model_final.h5\")"
      ],
      "execution_count": null,
      "outputs": []
    },
    {
      "cell_type": "code",
      "metadata": {
        "id": "_nQRNQQElMiU",
        "outputId": "aa5de299-bc79-4d41-a32f-48fabb7f1451",
        "colab": {
          "base_uri": "https://localhost:8080/"
        }
      },
      "source": [
        "!pip install flask-ngrok"
      ],
      "execution_count": null,
      "outputs": [
        {
          "output_type": "stream",
          "text": [
            "Collecting flask-ngrok\n",
            "  Downloading https://files.pythonhosted.org/packages/af/6c/f54cb686ad1129e27d125d182f90f52b32f284e6c8df58c1bae54fa1adbc/flask_ngrok-0.0.25-py3-none-any.whl\n",
            "Requirement already satisfied: requests in /usr/local/lib/python3.6/dist-packages (from flask-ngrok) (2.23.0)\n",
            "Requirement already satisfied: Flask>=0.8 in /usr/local/lib/python3.6/dist-packages (from flask-ngrok) (1.1.2)\n",
            "Requirement already satisfied: certifi>=2017.4.17 in /usr/local/lib/python3.6/dist-packages (from requests->flask-ngrok) (2020.6.20)\n",
            "Requirement already satisfied: idna<3,>=2.5 in /usr/local/lib/python3.6/dist-packages (from requests->flask-ngrok) (2.10)\n",
            "Requirement already satisfied: urllib3!=1.25.0,!=1.25.1,<1.26,>=1.21.1 in /usr/local/lib/python3.6/dist-packages (from requests->flask-ngrok) (1.24.3)\n",
            "Requirement already satisfied: chardet<4,>=3.0.2 in /usr/local/lib/python3.6/dist-packages (from requests->flask-ngrok) (3.0.4)\n",
            "Requirement already satisfied: itsdangerous>=0.24 in /usr/local/lib/python3.6/dist-packages (from Flask>=0.8->flask-ngrok) (1.1.0)\n",
            "Requirement already satisfied: click>=5.1 in /usr/local/lib/python3.6/dist-packages (from Flask>=0.8->flask-ngrok) (7.1.2)\n",
            "Requirement already satisfied: Jinja2>=2.10.1 in /usr/local/lib/python3.6/dist-packages (from Flask>=0.8->flask-ngrok) (2.11.2)\n",
            "Requirement already satisfied: Werkzeug>=0.15 in /usr/local/lib/python3.6/dist-packages (from Flask>=0.8->flask-ngrok) (1.0.1)\n",
            "Requirement already satisfied: MarkupSafe>=0.23 in /usr/local/lib/python3.6/dist-packages (from Jinja2>=2.10.1->Flask>=0.8->flask-ngrok) (1.1.1)\n",
            "Installing collected packages: flask-ngrok\n",
            "Successfully installed flask-ngrok-0.0.25\n"
          ],
          "name": "stdout"
        }
      ]
    },
    {
      "cell_type": "code",
      "metadata": {
        "id": "TVRzl4Vk9tt3",
        "outputId": "3bf63e13-308e-4098-d243-c8e98630eab0",
        "colab": {
          "base_uri": "https://localhost:8080/"
        }
      },
      "source": [
        "import numpy as np\n",
        "from flask_ngrok import run_with_ngrok\n",
        "#Keras#\n",
        "from tensorflow.keras.models import load_model\n",
        "#flask#\n",
        "from flask import Flask, request,render_template,jsonify\n",
        "from werkzeug.utils import secure_filename\n",
        "\n",
        "#defining flask app#\n",
        "app = Flask(__name__)\n",
        "run_with_ngrok(app)\n",
        "#model_path#\n",
        "MODEL_PATH = 'model_final.h5'\n",
        "\n",
        "# Load your trained model\n",
        "model = load_model(MODEL_PATH)\n",
        "          # Necessary\n",
        "print('Model loaded. Check http://127.0.0.1:5000/')  # print('Model loaded. Start serving...')\n",
        "\n",
        "\n",
        "@app.route('/')\n",
        "def home():\n",
        "    return render_template('index.html')\n",
        "\n",
        "@app.route('/predict',methods=['POST'])\n",
        "def predict():\n",
        "    input_features=[float(x) for x in request.form.values()]\n",
        "    features_value=np.expand_dims(np.array(input_features),axis=0)\n",
        "    output=model.predict(features_value)\n",
        "    result=np.argmax(output)\n",
        "    if(result==0):\n",
        "        return render_template(\"result.html\",prediction_text='This song is a flop song')\n",
        "\n",
        "    else:\n",
        "        return render_template('result.html',prediction_text='This song is a hit song')\n",
        "\n",
        "app.run()\n"
      ],
      "execution_count": null,
      "outputs": [
        {
          "output_type": "stream",
          "text": [
            "Model loaded. Check http://127.0.0.1:5000/\n",
            " * Serving Flask app \"__main__\" (lazy loading)\n",
            " * Environment: production\n",
            "\u001b[31m   WARNING: This is a development server. Do not use it in a production deployment.\u001b[0m\n",
            "\u001b[2m   Use a production WSGI server instead.\u001b[0m\n",
            " * Debug mode: off\n"
          ],
          "name": "stdout"
        },
        {
          "output_type": "stream",
          "text": [
            " * Running on http://127.0.0.1:5000/ (Press CTRL+C to quit)\n"
          ],
          "name": "stderr"
        },
        {
          "output_type": "stream",
          "text": [
            " * Running on http://574e06e4874c.ngrok.io\n",
            " * Traffic stats available on http://127.0.0.1:4040\n"
          ],
          "name": "stdout"
        }
      ]
    },
    {
      "cell_type": "code",
      "metadata": {
        "id": "dbyrvkc--eXq"
      },
      "source": [
        "!mkdir templates\n",
        "!mkdir static\n",
        "%cp index.html templates/ "
      ],
      "execution_count": null,
      "outputs": []
    },
    {
      "cell_type": "code",
      "metadata": {
        "id": "hVOBOPv8-971"
      },
      "source": [
        "%cp result.html templates/\n",
        "%cp styles.css static/"
      ],
      "execution_count": null,
      "outputs": []
    },
    {
      "cell_type": "code",
      "metadata": {
        "id": "YrtdeGAhCyRJ",
        "outputId": "9428536b-69ea-4943-d045-05f759936ed4",
        "colab": {
          "base_uri": "https://localhost:8080/"
        }
      },
      "source": [
        "pip freeze"
      ],
      "execution_count": null,
      "outputs": [
        {
          "output_type": "stream",
          "text": [
            "absl-py==0.10.0\n",
            "alabaster==0.7.12\n",
            "albumentations==0.1.12\n",
            "altair==4.1.0\n",
            "argon2-cffi==20.1.0\n",
            "asgiref==3.3.0\n",
            "astor==0.8.1\n",
            "astropy==4.1\n",
            "astunparse==1.6.3\n",
            "async-generator==1.10\n",
            "atari-py==0.2.6\n",
            "atomicwrites==1.4.0\n",
            "attrs==20.2.0\n",
            "audioread==2.1.9\n",
            "autograd==1.3\n",
            "Babel==2.8.0\n",
            "backcall==0.2.0\n",
            "beautifulsoup4==4.6.3\n",
            "bleach==3.2.1\n",
            "blis==0.4.1\n",
            "bokeh==2.1.1\n",
            "Bottleneck==1.3.2\n",
            "branca==0.4.1\n",
            "bs4==0.0.1\n",
            "CacheControl==0.12.6\n",
            "cachetools==4.1.1\n",
            "catalogue==1.0.0\n",
            "certifi==2020.6.20\n",
            "cffi==1.14.3\n",
            "chainer==7.4.0\n",
            "chardet==3.0.4\n",
            "click==7.1.2\n",
            "cloudpickle==1.3.0\n",
            "cmake==3.12.0\n",
            "cmdstanpy==0.9.5\n",
            "colorlover==0.3.0\n",
            "community==1.0.0b1\n",
            "contextlib2==0.5.5\n",
            "convertdate==2.2.2\n",
            "coverage==3.7.1\n",
            "coveralls==0.5\n",
            "crcmod==1.7\n",
            "cufflinks==0.17.3\n",
            "cvxopt==1.2.5\n",
            "cvxpy==1.0.31\n",
            "cycler==0.10.0\n",
            "cymem==2.0.4\n",
            "Cython==0.29.21\n",
            "daft==0.0.4\n",
            "dask==2.12.0\n",
            "dataclasses==0.7\n",
            "datascience==0.10.6\n",
            "debugpy==1.0.0\n",
            "decorator==4.4.2\n",
            "defusedxml==0.6.0\n",
            "descartes==1.1.0\n",
            "dill==0.3.3\n",
            "distributed==1.25.3\n",
            "Django==3.1.3\n",
            "dlib==19.18.0\n",
            "dm-tree==0.1.5\n",
            "docopt==0.6.2\n",
            "docutils==0.16\n",
            "dopamine-rl==1.0.5\n",
            "earthengine-api==0.1.238\n",
            "easydict==1.9\n",
            "ecos==2.0.7.post1\n",
            "editdistance==0.5.3\n",
            "en-core-web-sm==2.2.5\n",
            "entrypoints==0.3\n",
            "ephem==3.7.7.1\n",
            "et-xmlfile==1.0.1\n",
            "fa2==0.3.5\n",
            "fancyimpute==0.4.3\n",
            "fastai==1.0.61\n",
            "fastdtw==0.3.4\n",
            "fastprogress==1.0.0\n",
            "fastrlock==0.5\n",
            "fbprophet==0.7.1\n",
            "feather-format==0.4.1\n",
            "filelock==3.0.12\n",
            "firebase-admin==4.4.0\n",
            "fix-yahoo-finance==0.0.22\n",
            "Flask==1.1.2\n",
            "flask-ngrok==0.0.25\n",
            "folium==0.8.3\n",
            "future==0.16.0\n",
            "gast==0.3.3\n",
            "GDAL==2.2.2\n",
            "gdown==3.6.4\n",
            "gensim==3.6.0\n",
            "geographiclib==1.50\n",
            "geopy==1.17.0\n",
            "gin-config==0.3.0\n",
            "glob2==0.7\n",
            "google==2.0.3\n",
            "google-api-core==1.16.0\n",
            "google-api-python-client==1.7.12\n",
            "google-auth==1.17.2\n",
            "google-auth-httplib2==0.0.4\n",
            "google-auth-oauthlib==0.4.2\n",
            "google-cloud-bigquery==1.21.0\n",
            "google-cloud-bigquery-storage==1.1.0\n",
            "google-cloud-core==1.0.3\n",
            "google-cloud-datastore==1.8.0\n",
            "google-cloud-firestore==1.7.0\n",
            "google-cloud-language==1.2.0\n",
            "google-cloud-storage==1.18.1\n",
            "google-cloud-translate==1.5.0\n",
            "google-colab==1.0.0\n",
            "google-pasta==0.2.0\n",
            "google-resumable-media==0.4.1\n",
            "googleapis-common-protos==1.52.0\n",
            "googledrivedownloader==0.4\n",
            "graphviz==0.10.1\n",
            "grpcio==1.33.2\n",
            "gspread==3.0.1\n",
            "gspread-dataframe==3.0.8\n",
            "gym==0.17.3\n",
            "h5py==2.10.0\n",
            "HeapDict==1.0.1\n",
            "holidays==0.10.3\n",
            "holoviews==1.13.5\n",
            "html5lib==1.0.1\n",
            "httpimport==0.5.18\n",
            "httplib2==0.17.4\n",
            "httplib2shim==0.0.3\n",
            "humanize==0.5.1\n",
            "hyperopt==0.1.2\n",
            "ideep4py==2.0.0.post3\n",
            "idna==2.10\n",
            "image==1.5.33\n",
            "imageio==2.4.1\n",
            "imagesize==1.2.0\n",
            "imbalanced-learn==0.4.3\n",
            "imblearn==0.0\n",
            "imgaug==0.2.9\n",
            "importlib-metadata==2.0.0\n",
            "importlib-resources==3.3.0\n",
            "imutils==0.5.3\n",
            "inflect==2.1.0\n",
            "iniconfig==1.1.1\n",
            "intel-openmp==2020.0.133\n",
            "intervaltree==2.1.0\n",
            "ipykernel==4.10.1\n",
            "ipython==5.5.0\n",
            "ipython-genutils==0.2.0\n",
            "ipython-sql==0.3.9\n",
            "ipywidgets==7.5.1\n",
            "itsdangerous==1.1.0\n",
            "jax==0.2.4\n",
            "jaxlib==0.1.56+cuda101\n",
            "jdcal==1.4.1\n",
            "jedi==0.17.2\n",
            "jieba==0.42.1\n",
            "Jinja2==2.11.2\n",
            "joblib==0.17.0\n",
            "jpeg4py==0.1.4\n",
            "jsonschema==2.6.0\n",
            "jupyter==1.0.0\n",
            "jupyter-client==5.3.5\n",
            "jupyter-console==5.2.0\n",
            "jupyter-core==4.6.3\n",
            "jupyterlab-pygments==0.1.2\n",
            "kaggle==1.5.9\n",
            "kapre==0.1.3.1\n",
            "Keras==2.4.3\n",
            "Keras-Preprocessing==1.1.2\n",
            "keras-vis==0.4.1\n",
            "kiwisolver==1.3.1\n",
            "knnimpute==0.1.0\n",
            "korean-lunar-calendar==0.2.1\n",
            "librosa==0.6.3\n",
            "lightgbm==2.2.3\n",
            "llvmlite==0.31.0\n",
            "lmdb==0.99\n",
            "lucid==0.3.8\n",
            "LunarCalendar==0.0.9\n",
            "lxml==4.2.6\n",
            "Markdown==3.3.3\n",
            "MarkupSafe==1.1.1\n",
            "matplotlib==3.2.2\n",
            "matplotlib-venn==0.11.6\n",
            "missingno==0.4.2\n",
            "mistune==0.8.4\n",
            "mizani==0.6.0\n",
            "mkl==2019.0\n",
            "mlxtend==0.14.0\n",
            "more-itertools==8.6.0\n",
            "moviepy==0.2.3.5\n",
            "mpmath==1.1.0\n",
            "msgpack==1.0.0\n",
            "multiprocess==0.70.10\n",
            "multitasking==0.0.9\n",
            "murmurhash==1.0.3\n",
            "music21==5.5.0\n",
            "natsort==5.5.0\n",
            "nbclient==0.5.1\n",
            "nbconvert==5.6.1\n",
            "nbformat==5.0.8\n",
            "nest-asyncio==1.4.2\n",
            "networkx==2.5\n",
            "nibabel==3.0.2\n",
            "nltk==3.2.5\n",
            "notebook==5.3.1\n",
            "np-utils==0.5.12.1\n",
            "numba==0.48.0\n",
            "numexpr==2.7.1\n",
            "numpy==1.18.5\n",
            "nvidia-ml-py3==7.352.0\n",
            "oauth2client==4.1.3\n",
            "oauthlib==3.1.0\n",
            "okgrade==0.4.3\n",
            "opencv-contrib-python==4.1.2.30\n",
            "opencv-python==4.1.2.30\n",
            "openpyxl==2.5.9\n",
            "opt-einsum==3.3.0\n",
            "osqp==0.6.1\n",
            "packaging==20.4\n",
            "palettable==3.3.0\n",
            "pandas==1.1.4\n",
            "pandas-datareader==0.9.0\n",
            "pandas-gbq==0.13.3\n",
            "pandas-profiling==1.4.1\n",
            "pandocfilters==1.4.3\n",
            "panel==0.9.7\n",
            "param==1.10.0\n",
            "parso==0.7.1\n",
            "pathlib==1.0.1\n",
            "patsy==0.5.1\n",
            "pexpect==4.8.0\n",
            "pickleshare==0.7.5\n",
            "Pillow==7.0.0\n",
            "pip-tools==4.5.1\n",
            "plac==1.1.3\n",
            "plotly==4.4.1\n",
            "plotnine==0.6.0\n",
            "pluggy==0.7.1\n",
            "portpicker==1.3.1\n",
            "prefetch-generator==1.0.1\n",
            "preshed==3.0.2\n",
            "prettytable==1.0.1\n",
            "progressbar2==3.38.0\n",
            "prometheus-client==0.8.0\n",
            "promise==2.3\n",
            "prompt-toolkit==1.0.18\n",
            "protobuf==3.12.4\n",
            "psutil==5.4.8\n",
            "psycopg2==2.7.6.1\n",
            "ptyprocess==0.6.0\n",
            "py==1.9.0\n",
            "pyarrow==0.14.1\n",
            "pyasn1==0.4.8\n",
            "pyasn1-modules==0.2.8\n",
            "pycocotools==2.0.2\n",
            "pycparser==2.20\n",
            "pyct==0.4.8\n",
            "pydata-google-auth==1.1.0\n",
            "pydot==1.3.0\n",
            "pydot-ng==2.0.0\n",
            "pydotplus==2.0.2\n",
            "PyDrive==1.3.1\n",
            "pyemd==0.5.1\n",
            "pyglet==1.5.0\n",
            "Pygments==2.6.1\n",
            "pygobject==3.26.1\n",
            "pymc3==3.7\n",
            "PyMeeus==0.3.7\n",
            "pymongo==3.11.0\n",
            "pymystem3==0.2.0\n",
            "PyOpenGL==3.1.5\n",
            "pyparsing==2.4.7\n",
            "pyrsistent==0.17.3\n",
            "pysndfile==1.3.8\n",
            "PySocks==1.7.1\n",
            "pystan==2.19.1.1\n",
            "pytest==3.6.4\n",
            "python-apt==1.6.5+ubuntu0.3\n",
            "python-chess==0.23.11\n",
            "python-dateutil==2.8.1\n",
            "python-louvain==0.14\n",
            "python-slugify==4.0.1\n",
            "python-utils==2.4.0\n",
            "pytz==2018.9\n",
            "pyviz-comms==0.7.6\n",
            "PyWavelets==1.1.1\n",
            "PyYAML==3.13\n",
            "pyzmq==19.0.2\n",
            "qtconsole==4.7.7\n",
            "QtPy==1.9.0\n",
            "regex==2019.12.20\n",
            "requests==2.23.0\n",
            "requests-oauthlib==1.3.0\n",
            "resampy==0.2.2\n",
            "retrying==1.3.3\n",
            "rpy2==3.2.7\n",
            "rsa==4.6\n",
            "scikit-image==0.16.2\n",
            "scikit-learn==0.22.2.post1\n",
            "scipy==1.4.1\n",
            "screen-resolution-extra==0.0.0\n",
            "scs==2.1.2\n",
            "seaborn==0.11.0\n",
            "Send2Trash==1.5.0\n",
            "setuptools-git==1.2\n",
            "Shapely==1.7.1\n",
            "simplegeneric==0.8.1\n",
            "six==1.15.0\n",
            "sklearn==0.0\n",
            "sklearn-pandas==1.8.0\n",
            "slugify==0.0.1\n",
            "smart-open==3.0.0\n",
            "snowballstemmer==2.0.0\n",
            "sortedcontainers==2.2.2\n",
            "spacy==2.2.4\n",
            "Sphinx==1.8.5\n",
            "sphinxcontrib-serializinghtml==1.1.4\n",
            "sphinxcontrib-websupport==1.2.4\n",
            "SQLAlchemy==1.3.20\n",
            "sqlparse==0.4.1\n",
            "srsly==1.0.2\n",
            "statsmodels==0.10.2\n",
            "sympy==1.1.1\n",
            "tables==3.4.4\n",
            "tabulate==0.8.7\n",
            "tblib==1.7.0\n",
            "tensorboard==2.3.0\n",
            "tensorboard-plugin-wit==1.7.0\n",
            "tensorboardcolab==0.0.22\n",
            "tensorflow==2.3.0\n",
            "tensorflow-addons==0.8.3\n",
            "tensorflow-datasets==4.0.1\n",
            "tensorflow-estimator==2.3.0\n",
            "tensorflow-gcs-config==2.3.0\n",
            "tensorflow-hub==0.10.0\n",
            "tensorflow-metadata==0.24.0\n",
            "tensorflow-privacy==0.2.2\n",
            "tensorflow-probability==0.11.0\n",
            "termcolor==1.1.0\n",
            "terminado==0.9.1\n",
            "testpath==0.4.4\n",
            "text-unidecode==1.3\n",
            "textblob==0.15.3\n",
            "textgenrnn==1.4.1\n",
            "Theano==1.0.5\n",
            "thinc==7.4.0\n",
            "tifffile==2020.9.3\n",
            "toml==0.10.2\n",
            "toolz==0.11.1\n",
            "torch==1.7.0+cu101\n",
            "torchsummary==1.5.1\n",
            "torchtext==0.3.1\n",
            "torchvision==0.8.1+cu101\n",
            "tornado==5.1.1\n",
            "tqdm==4.41.1\n",
            "traitlets==4.3.3\n",
            "tweepy==3.6.0\n",
            "typeguard==2.7.1\n",
            "typing-extensions==3.7.4.3\n",
            "tzlocal==1.5.1\n",
            "umap-learn==0.4.6\n",
            "uritemplate==3.0.1\n",
            "urllib3==1.24.3\n",
            "vega-datasets==0.8.0\n",
            "wasabi==0.8.0\n",
            "wcwidth==0.2.5\n",
            "webencodings==0.5.1\n",
            "Werkzeug==1.0.1\n",
            "widgetsnbextension==3.5.1\n",
            "wordcloud==1.5.0\n",
            "wrapt==1.12.1\n",
            "xarray==0.15.1\n",
            "xgboost==0.90\n",
            "xkit==0.0.0\n",
            "xlrd==1.1.0\n",
            "xlwt==1.3.0\n",
            "yellowbrick==0.9.1\n",
            "zict==2.0.0\n",
            "zipp==3.4.0\n"
          ],
          "name": "stdout"
        }
      ]
    }
  ]
}